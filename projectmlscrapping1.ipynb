{
  "cells": [
    {
      "cell_type": "code",
      "execution_count": null,
      "metadata": {
        "id": "nmaoDYHmnPj_"
      },
      "outputs": [],
      "source": [
        "from bs4 import BeautifulSoup\n",
        "import requests\n",
        "import csv"
      ]
    },
    {
      "cell_type": "code",
      "execution_count": null,
      "metadata": {
        "colab": {
          "base_uri": "https://localhost:8080/"
        },
        "id": "shKWt_ipS64o",
        "outputId": "30bdd78e-c6cc-4a9e-cb42-b027ef07f850"
      },
      "outputs": [
        {
          "output_type": "stream",
          "name": "stdout",
          "text": [
            "| Character   | Gender | Faction             | Debut Game                          | Status   | Alliance/Enemies        | Weapon                       | Origin          | Occupation              | Trademark              | Affiliation           | Costume/Outfit             |\n",
            "| ----------- | ------ | ------------------- | ----------------------------------- | -------- | ----------------------- | ---------------------------- | --------------- | ----------------------- | ---------------------- | --------------------- | -------------------------- |\n",
            "| Scorpion    | Male   | Shirai Ryu          | Mortal Kombat                       | Undead   | Sub Zero,Quan Chi       | Kunai and Spear              | Earthrealm      | Ninja/Assassin          | 'Get Over here!'       | None                  | Yellow ninja garb          |\n",
            "| Sub-Zero    | Male   | Lin Kuei            | Mortal Kombat                       | Alive    | Scorpion,Lin Kuei       | Ice Sword                    | Earthrealm      | Lin Kuei Grandmaster    | 'Spine Rip'            | Lin Kuei              | Blue ninja garb            |\n",
            "| Liu Kang    | Male   | White Lotus Society | Mortal Kombat                       | Alive    | Kung Lao,Raiden         | Nuchaku,fire powers          | Earthrealm      | Martial Artist          | 'Dragon Fatality'      | White Lotus society   | Red martial arts attire    |\n",
            "| Sonya Blade | Female | Special Forces      | Mortal Kombat                       | Alive    | Jax Briggs,Johnny Cage  | military equipment           | Earthrealm      | Special Forces agent    | 'Kiss of Death'        | Special Forces        | Green military attire      |\n",
            "| Raiden      | Male   | Elder Gods          | Mortal Kombat                       | Immortal | Liu Kang,Fujin          | staff,lightning powers       | Elder God       | Protector of Earthrealn | 'Lightning Fatality'   | Elder Gods            | white and Blue attire      |\n",
            "| Johnny Cage | Male   | Earthrealm Warriors | Mortal Kombat                       | Alive    | Sonya Blade,Cassie Cage | Brass Knuckles,shadow moves  | Earthrealm      | Actor                   | 'Nut Punch'            | Earthrealn Warriors   | Black and green attire     |\n",
            "| Kitana      | Female | Edenia              | Mortal Kombat 2                     | Alive    | Liu Kang,Jade           | Steel fans                   | Edenia          | Princess                | 'Fan Lift'             | Edenian royalty       | Blue ninja attire          |\n",
            "| Kano        | Male   | Black Dragon        | Mortal Kombat                       | Alive    | Sonya Blade,Jax Briggs  | Cybernetic heart             | Earthrealm      | Black Dragon Leader     | 'Heart Rip'            | Black Dragon          | Metal faceplate,cybernetic |\n",
            "| Jax Briggs  | Male   | Special Forces      | Mortal Kombat 2                     | Alive    | Sonya Blade,Kano        | bionic arms                  | Earthrealm      | Special Forces Agent    | 'Heart Rip'            | Special Forces        | Cybernetic arms            |\n",
            "| Mileena     | Female | Shao Kahn's Army    | Mortal Kombat 2                     | Deceased | Kitana,Baraka           | Dual Sai                     | Edenia/Tarkatan | Assassin                | 'Ground Pound'         | Shao Kahn's Army      | Pink ninja attire          |\n",
            "| Shang Tsung | Male   | Sorcerer            | Mortal Kombat                       | Alive    | Quan Chi,Shao Kahn      | Magic                        | Earthrealm      | Sorcerer                | 'Man Eater'            | Netherrealn           | red robe with a skull      |\n",
            "| Kung Lao    | Male   | White Lotus Society | Mortal Kombat 2                     | Alive    | Liu Kang,Raidem         | Razor-rimmed hat             | Earthrealm      | MArtial Artist          | 'Morphing'             | white Lotus Society   | Red monk attire            |\n",
            "| Shao Kahn   | Male   | Outworld            | Mortal Kombat 2                     | Deceased | Kitana,Mileena          | Wrath Hammer                 | Outworld        | Emperor of Outworld     | 'Hat trick'            | Outworld              | Skull faced helmet         |\n",
            "| Cassie Cage | Female | Special Forces      | Mortal Kombat 10                    | Alive    | Sonya Blade,Johnny Cage | Pistols,Military Training    | Earthrealm      | Special Forces Agent    | 'Annihilation'         | Special Forces        | Military inspired attire   |\n",
            "| Kotal Kahn  | Male   | Outworld            | Mortal Kombat 10                    | Alive    | D'Vorah,Mileena         | Macuahuitl,Blood Magic       | Outworld        | Mercenary               | 'Bubble Head'          | Outwrold              | Aztec inspired armor       |\n",
            "| Erron Black | Male   | Outworld            | Mortal Kombat 10                    | Alive    | Kotakl Kahn,Shang Tsung | Revolvers,Sand Grenades      | Earthrealm      | Protector of Earthrealn | 'God Ray'              | Outworld/black Dragon | Cowboy inspired attire     |\n",
            "| Fujin       | Male   | Elder Gods          | Mortal Kombat 4                     | Alive    | Raiden,Liu Kang         | Crossbow,Sword,Wind Powers   | Elder God       | Kytinn Warrior          | 'Sand Trap'            | Elder Gods            | White and blue attire      |\n",
            "| D'Vorah     | Female | Outworld            | Mortal Kombat 10                    | Alive    | Kotal Kahn,Mileena      | bladed arms                  | Outworld        | agent of Kronika        | 'Tornado'              | Outworld              | Insect like armor          |\n",
            "| Geras       | Male   | Kronika's Keepers   | Mortal Kombat 11                    | Alive    | Kronika,Liu Kang        | Gauntlets,Sand Powers        | Unknown         | Protector of Earthrealn | 'Bug Burst'            | Kronika's Keepers     | Sand themed attire         |\n",
            "| Cetrion     | Female | Elder Gods          | Mortal Kombat 11                    | Alive    | Kronika,Shinnok         | Elemental Powers             | Elder God       | Wraith Assassin         | 'Phasing Through Time' | Elder Gods            | Nature inspired attire     |\n",
            "| Noob Saibot | Male   | Netherrealm         | Mortal Kombat 2                     | Undead   | Sub Zero,Scorpion       | Shadows,Teleportation        | Earthrealm      | Lin Kuei Warrior        | 'Wrath of the Titans'  | Netherrealn           | Dark ninja attire          |\n",
            "| Frost       | Female | Lin Kuei            | Mortal Kombat: Deadly Alliance      | Alive    | Sub Zero,Quan Chi       | Ice Weapons,Cybernetics      | Earthrealm      | Item Collector          | 'Shadow Takedown'      | Lin Kuei              | Cybernetic ninja attire    |\n",
            "| Kollector   | Male   | Shao Kahn's Army    | Mortal Kombat 11                    | Alive    | Shao Kahn,D'Vorah       | Spiked Chain,Collector Bag   | Outworld        | Bodyguard               | 'Icequake'             | Shao Kahn's army      | Multi armed attire         |\n",
            "| Jade        | Male   | Edenia              | Mortal Kombat 2                     | Alive    | Kitana,Liu Kang         | Bo Staff,Polearn             | Edenia          | Tarkatan Warrior        | For the Kollection'    | Edenian royalty       | Green ninja attire         |\n",
            "| Baraka      | Male   | Tarkatan Horde      | Mortal Kombat 2                     | Alive    | Mileena,D'Vorah         | Arm Blades                   | Outworld        | Mercenary               | 'Staff Swipe'          | Tarkatan Horde        | Tarkatan Inspired armor    |\n",
            "| Kabal       | Male   | Black Dragon        | Mortal Kombat 3                     | Alive    | Sonya Blade,Kano        | Dual Hooked Swords           | Edenia          | Archer,MArtial Artist   | 'Chop CHop Blades'     | Former Black Dragon   | Hooked mask,respirator     |\n",
            "| Kung Jin    | Male   | White Lotus Society | Mortal Kombat 10                    | Alive    | Kung Lao,Raiden         | Bo Staff,Bow                 | Outworld        | Dark Sorcerer           | 'Nomad Dash'           | White Lotus Society   | Archer inspired attire     |\n",
            "| Shinnok     | Female | Netherrealm         | Mortal Kombat 4                     | Deceased | Raiden,Quan Chi         | Amulet of Shinnok            | Earthrealm      | Edenian Prince          | 'Shaolin Drop'         | Netherrealn           | dark robes,skull mask      |\n",
            "| Rain        | Male   | Edenia              | Mortal Kombat 3                     | Alive    | Kitana,Tanya            | Katar,Water Manipulation     | Earthrealm      | Edenian Prince          | 'Impersonator'         | Edenia                | Purple ninja attire        |\n",
            "| Sareena     | Male   | Netherrealm         | Mortal Kombat Mythologies: Sub-Zero | Alive    | Quan Chi,SubZero        | Dual Kamas                   | Unknown         | Demon assassin          | 'Superkick'            | Netherrealn           | Black and red attire       |\n",
            "| Tremor      | Female | Black Dragon        | Mortal Kombat: Special Forces       | Alive    | Kano, Jax Briggs        | Gauntlets,Earth Manipulation | Edenia          | Black Dragon Soldier    | 'demon Slam'           | Black Dragon          | Brown and orange attire    |\n"
          ]
        }
      ],
      "source": [
        "def generate_markdown_table(data):\n",
        "    max_lengths = {key: max(map(len, map(str, data[key]))) for key in data.keys()}\n",
        "\n",
        "    header = \"| \" + \" | \".join(key.ljust(max_lengths[key]) for key in data.keys()) + \" |\"\n",
        "\n",
        "    separator = \"| \" + \" | \".join([\"-\" * max_lengths[key] for key in data.keys()]) + \" |\"\n",
        "\n",
        "    rows = []\n",
        "    for i in range(len(data[\"Character\"])):\n",
        "        row = \"| \" + \" | \".join(str(data[key][i]).ljust(max_lengths[key]) for key in data.keys()) + \" |\"\n",
        "        rows.append(row)\n",
        "\n",
        "    markdown_table = \"{}\\n{}\\n{}\".format(header, separator, '\\n'.join(rows))\n",
        "\n",
        "    return markdown_table\n",
        "\n",
        "data = {\n",
        "    \"Character\": [\"Scorpion\", \"Sub-Zero\", \"Liu Kang\", \"Sonya Blade\", \"Raiden\", \"Johnny Cage\", \"Kitana\", \"Kano\", \"Jax Briggs\", \"Mileena\", \"Shang Tsung\", \"Kung Lao\", \"Shao Kahn\", \"Cassie Cage\", \"Kotal Kahn\", \"Erron Black\", \"Fujin\", \"D'Vorah\", \"Geras\", \"Cetrion\", \"Noob Saibot\", \"Frost\", \"Kollector\", \"Jade\", \"Baraka\", \"Kabal\", \"Kung Jin\", \"Shinnok\", \"Rain\", \"Sareena\", \"Tremor\"],\n",
        "    \"Gender\": [\"Male\", \"Male\", \"Male\", \"Female\", \"Male\", \"Male\", \"Female\", \"Male\", \"Male\", \"Female\", \"Male\", \"Male\", \"Male\", \"Female\", \"Male\", \"Male\", \"Male\", \"Female\", \"Male\", \"Female\", \"Male\", \"Female\", \"Male\", \"Male\", \"Male\", \"Male\", \"Male\", \"Female\", \"Male\",\"Male\",\"Female\"],\n",
        "    \"Faction\": [\"Shirai Ryu\", \"Lin Kuei\", \"White Lotus Society\", \"Special Forces\", \"Elder Gods\", \"Earthrealm Warriors\", \"Edenia\", \"Black Dragon\", \"Special Forces\", \"Shao Kahn's Army\", \"Sorcerer\", \"White Lotus Society\", \"Outworld\", \"Special Forces\", \"Outworld\", \"Outworld\", \"Elder Gods\", \"Outworld\", \"Kronika's Keepers\", \"Elder Gods\", \"Netherrealm\", \"Lin Kuei\", \"Shao Kahn's Army\", \"Edenia\", \"Tarkatan Horde\", \"Black Dragon\", \"White Lotus Society\", \"Netherrealm\", \"Edenia\", \"Netherrealm\", \"Black Dragon\"],\n",
        "    \"Debut Game\": [\"Mortal Kombat\",\"Mortal Kombat\",\"Mortal Kombat\",\"Mortal Kombat\",\"Mortal Kombat\",\"Mortal Kombat\",\"Mortal Kombat 2\",\"Mortal Kombat\",\"Mortal Kombat 2\",\"Mortal Kombat 2\",\"Mortal Kombat\",\"Mortal Kombat 2\",\"Mortal Kombat 2\",\"Mortal Kombat 10\",\"Mortal Kombat 10\",\"Mortal Kombat 10\",\"Mortal Kombat 4\",\"Mortal Kombat 10\",\"Mortal Kombat 11\",\"Mortal Kombat 11\",\"Mortal Kombat 2\",\"Mortal Kombat: Deadly Alliance\",\"Mortal Kombat 11\",\"Mortal Kombat 2\",\"Mortal Kombat 2\",\"Mortal Kombat 3\",\"Mortal Kombat 10\",\"Mortal Kombat 4\",\"Mortal Kombat 3\",\"Mortal Kombat Mythologies: Sub-Zero\",\"Mortal Kombat: Special Forces\"],\n",
        "    \"Status\": [\"Undead\",\"Alive\",\"Alive\",\"Alive\",\"Immortal\",\"Alive\",\"Alive\",\"Alive\",\"Alive\",\"Deceased\",\"Alive\",\"Alive\",\"Deceased\",\"Alive\",\"Alive\",\"Alive\",\"Alive\",\"Alive\",\"Alive\",\"Alive\",\"Undead\",\"Alive\",\"Alive\",\"Alive\",\"Alive\",\"Alive\",\"Alive\",\"Deceased\",\"Alive\",\"Alive\",\"Alive\"],\n",
        "    \"Alliance/Enemies\": [\"Sub Zero,Quan Chi\",\"Scorpion,Lin Kuei\",\"Kung Lao,Raiden\",\"Jax Briggs,Johnny Cage\",\"Liu Kang,Fujin\",\"Sonya Blade,Cassie Cage\",\"Liu Kang,Jade\",\"Sonya Blade,Jax Briggs\",\"Sonya Blade,Kano \",\"Kitana,Baraka\",\"Quan Chi,Shao Kahn\",\"Liu Kang,Raidem\",\"Kitana,Mileena\",\"Sonya Blade,Johnny Cage\",\"D'Vorah,Mileena\",\"Kotakl Kahn,Shang Tsung\",\"Raiden,Liu Kang\",\"Kotal Kahn,Mileena\",\"Kronika,Liu Kang\",\"Kronika,Shinnok\",\"Sub Zero,Scorpion\",\"Sub Zero,Quan Chi\",\"Shao Kahn,D'Vorah\",\"Kitana,Liu Kang\",\"Mileena,D'Vorah\",\"Sonya Blade,Kano\",\"Kung Lao,Raiden\",\"Raiden,Quan Chi\",\"Kitana,Tanya\",\"Quan Chi,SubZero\",\"Kano, Jax Briggs\"],\n",
        "    \"Weapon\": [\"Kunai and Spear\",\"Ice Sword\",\"Nuchaku,fire powers\",\"military equipment\",\"staff,lightning powers\",\"Brass Knuckles,shadow moves\",\"Steel fans\",\"Cybernetic heart\",\"bionic arms\",\"Dual Sai\",\"Magic\",\"Razor-rimmed hat\",\"Wrath Hammer\",\"Pistols,Military Training\",\"Macuahuitl,Blood Magic\",\"Revolvers,Sand Grenades\",\"Crossbow,Sword,Wind Powers\",\"bladed arms\",\"Gauntlets,Sand Powers\",\"Elemental Powers\",\"Shadows,Teleportation\",\"Ice Weapons,Cybernetics\",\"Spiked Chain,Collector Bag\",\"Bo Staff,Polearn\",\"Arm Blades\",\"Dual Hooked Swords\",\"Bo Staff,Bow\",\"Amulet of Shinnok\",\"Katar,Water Manipulation\",\"Dual Kamas\",\"Gauntlets,Earth Manipulation\"],\n",
        "    \"Origin\": [\"Earthrealm\",\"Earthrealm\",\"Earthrealm\",\"Earthrealm\",\"Elder God\",\"Earthrealm\",\"Edenia\",\"Earthrealm\",\"Earthrealm\",\"Edenia/Tarkatan\",\"Earthrealm\",\"Earthrealm\",\"Outworld\",\"Earthrealm\",\"Outworld\",\"Earthrealm\",\"Elder God\",\"Outworld\",\"Unknown\",\"Elder God\",\"Earthrealm\",\"Earthrealm\",\"Outworld\",\"Edenia\",\"Outworld\",\"Edenia\",\"Outworld\",\"Earthrealm\",\"Earthrealm\",\"Unknown\",\"Edenia\"],\n",
        "    \"Occupation\": [\"Ninja/Assassin\",\"Lin Kuei Grandmaster\",\"Martial Artist\",\"Special Forces agent\",\"Protector of Earthrealn\",\"Actor\",\"Princess\",\"Black Dragon Leader\",\"Special Forces Agent\",\"Assassin\",\"Sorcerer\",\"MArtial Artist\",\"Emperor of Outworld\",\"Special Forces Agent\",\"Mercenary\",\"Protector of Earthrealn\",\"Kytinn Warrior\",\"agent of Kronika\",\"Protector of Earthrealn\",\"Wraith Assassin\",\"Lin Kuei Warrior\",\"Item Collector\",\"Bodyguard\",\"Tarkatan Warrior\",\"Mercenary\",\"Archer,MArtial Artist\",\"Dark Sorcerer\",\"Edenian Prince\",\"Edenian Prince\",\"Demon assassin\",\"Black Dragon Soldier\"],\n",
        "    \"Trademark\": [\"'Get Over here!'\",\"'Spine Rip'\",\"'Dragon Fatality'\",\"'Kiss of Death'\",\"'Lightning Fatality'\",\"'Nut Punch'\",\"'Fan Lift'\",\"'Heart Rip'\",\"'Heart Rip'\",\"'Ground Pound'\",\"'Man Eater'\",\"'Morphing'\",\"'Hat trick'\",\"'Annihilation'\",\"'Bubble Head'\",\"'God Ray'\",\"'Sand Trap'\",\"'Tornado'\",\"'Bug Burst'\",\"'Phasing Through Time'\",\"'Wrath of the Titans'\",\"'Shadow Takedown'\",\"'Icequake'\",\"For the Kollection'\",\"'Staff Swipe'\",\"'Chop CHop Blades'\",\"'Nomad Dash'\",\"'Shaolin Drop'\",\"'Impersonator'\",\"'Superkick'\",\"'demon Slam'\"],\n",
        "    \"Affiliation\": [\"None\",\"Lin Kuei\",\"White Lotus society\",\"Special Forces\",\"Elder Gods\",\"Earthrealn Warriors\",\"Edenian royalty\",\"Black Dragon\",\"Special Forces\",\"Shao Kahn's Army\",\"Netherrealn\",\"white Lotus Society\",\"Outworld\",\"Special Forces\",\"Outwrold\",\"Outworld/black Dragon\",\"Elder Gods\",\"Outworld\",\"Kronika's Keepers\",\"Elder Gods\",\"Netherrealn\",\"Lin Kuei\",\"Shao Kahn's army\",\"Edenian royalty\",\"Tarkatan Horde\",\"Former Black Dragon\",\"White Lotus Society\",\"Netherrealn\",\"Edenia\",\"Netherrealn\",\"Black Dragon\"],\n",
        "    \"Costume/Outfit\": [\"Yellow ninja garb\",\"Blue ninja garb\",\"Red martial arts attire\",\"Green military attire\",\"white and Blue attire\",\"Black and green attire\",\"Blue ninja attire\",\"Metal faceplate,cybernetic\",\"Cybernetic arms\",\"Pink ninja attire\",\"red robe with a skull\",\"Red monk attire\",\"Skull faced helmet\",\"Military inspired attire\",\"Aztec inspired armor\",\"Cowboy inspired attire\",\"White and blue attire\",\"Insect like armor\",\"Sand themed attire\",\"Nature inspired attire\",\"Dark ninja attire\",\"Cybernetic ninja attire\",\"Multi armed attire\",\"Green ninja attire\",\"Tarkatan Inspired armor\",\"Hooked mask,respirator\",\"Archer inspired attire\",\"dark robes,skull mask\",\"Purple ninja attire\",\"Black and red attire\",\"Brown and orange attire\"],\n",
        "\n",
        "}\n",
        "\n",
        "markdown_table = generate_markdown_table(data)\n",
        "\n",
        "print(markdown_table)\n"
      ]
    },
    {
      "cell_type": "code",
      "execution_count": null,
      "metadata": {
        "colab": {
          "base_uri": "https://localhost:8080/"
        },
        "id": "oMqBb3ciXdqT",
        "outputId": "1a256d28-aaf9-4693-e816-f1d66e3969d9"
      },
      "outputs": [
        {
          "output_type": "stream",
          "name": "stdout",
          "text": [
            "Data saved to character_data.csv\n"
          ]
        }
      ],
      "source": [
        "\n",
        "csv_filename = \"character_data.csv\"\n",
        "\n",
        "with open(csv_filename, \"w\", newline=\"\") as csvfile:\n",
        "    writer = csv.writer(csvfile)\n",
        "\n",
        "    # Write header\n",
        "    writer.writerow(data.keys())\n",
        "\n",
        "    # Write data\n",
        "    for i in range(len(data[\"Character\"])):\n",
        "        row_data = [data[key][i] for key in data.keys()]\n",
        "        writer.writerow(row_data)\n",
        "\n",
        "print(f\"Data saved to {csv_filename}\")\n"
      ]
    }
  ],
  "metadata": {
    "colab": {
      "provenance": []
    },
    "kernelspec": {
      "display_name": "Python 3",
      "name": "python3"
    },
    "language_info": {
      "name": "python"
    }
  },
  "nbformat": 4,
  "nbformat_minor": 0
}